{
 "cells": [
  {
   "cell_type": "code",
   "execution_count": 25,
   "metadata": {},
   "outputs": [],
   "source": [
    "with open('Ag300Pd105_LEH.xyz') as file:\n",
    "    file = file.readlines()[0].split()\n",
    "    \n",
    "new_file = []\n",
    "for x in file:\n",
    "    if len(x) > 2:\n",
    "        if x[-2:] == 'Pd' or x[-2:] == 'Ag':\n",
    "            new_file.append(x[:-2])\n",
    "            new_file.append(x[-2:])\n",
    "        else:\n",
    "            new_file.append(x)\n",
    "    else:\n",
    "        new_file.append(x)\n",
    "        "
   ]
  },
  {
   "cell_type": "code",
   "execution_count": 42,
   "metadata": {},
   "outputs": [],
   "source": [
    "import numpy as np\n",
    "from ase import Atoms\n",
    "from ase.visualize import view\n",
    "from ase.io import write, read\n",
    "\n",
    "a = np.array(new_file).reshape((405, 4))\n",
    "\n",
    "symbols = a[:,0]\n",
    "positions = a[:,1:4].astype(np.float64)\n",
    "\n",
    "atoms = Atoms(symbols, positions)\n",
    "write('Ag300Pd105_LEH.xyz', atoms)"
   ]
  },
  {
   "cell_type": "code",
   "execution_count": null,
   "metadata": {},
   "outputs": [],
   "source": []
  }
 ],
 "metadata": {
  "kernelspec": {
   "display_name": "farris",
   "language": "python",
   "name": "python3"
  },
  "language_info": {
   "codemirror_mode": {
    "name": "ipython",
    "version": 3
   },
   "file_extension": ".py",
   "mimetype": "text/x-python",
   "name": "python",
   "nbconvert_exporter": "python",
   "pygments_lexer": "ipython3",
   "version": "3.9.1"
  }
 },
 "nbformat": 4,
 "nbformat_minor": 2
}
