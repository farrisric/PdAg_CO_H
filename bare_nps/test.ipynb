{
 "cells": [
  {
   "cell_type": "code",
   "execution_count": 3,
   "metadata": {},
   "outputs": [],
   "source": [
    "from ase.cluster import Octahedron\n",
    "from ase.io import read, write\n",
    "import acat\n",
    "from ase.optimize import BFGS\n",
    "from asap3 import EMT\n",
    "from mace.calculators import mace_mp\n",
    "import numpy as np\n",
    "from ase.visualize import view"
   ]
  },
  {
   "cell_type": "code",
   "execution_count": 4,
   "metadata": {},
   "outputs": [
    {
     "name": "stdout",
     "output_type": "stream",
     "text": [
      "Using float64 for MACECalculator, which is slower but more accurate. Recommended for geometry optimization.\n"
     ]
    },
    {
     "name": "stderr",
     "output_type": "stream",
     "text": [
      "/home/g15farris/.conda/envs/farris/lib/python3.9/site-packages/torch/overrides.py:110: UserWarning: 'has_cuda' is deprecated, please use 'torch.backends.cuda.is_built()'\n",
      "  torch.has_cuda,\n",
      "/home/g15farris/.conda/envs/farris/lib/python3.9/site-packages/torch/overrides.py:111: UserWarning: 'has_cudnn' is deprecated, please use 'torch.backends.cudnn.is_available()'\n",
      "  torch.has_cudnn,\n",
      "/home/g15farris/.conda/envs/farris/lib/python3.9/site-packages/torch/overrides.py:117: UserWarning: 'has_mps' is deprecated, please use 'torch.backends.mps.is_built()'\n",
      "  torch.has_mps,\n",
      "/home/g15farris/.conda/envs/farris/lib/python3.9/site-packages/torch/overrides.py:118: UserWarning: 'has_mkldnn' is deprecated, please use 'torch.backends.mkldnn.is_available()'\n",
      "  torch.has_mkldnn,\n"
     ]
    }
   ],
   "source": [
    "mace_calc = mace_mp(model=\"/work/g15farris/2023-12-03-mace-128-L1_epoch-199.model\", default_dtype='float64')"
   ]
  },
  {
   "cell_type": "code",
   "execution_count": 8,
   "metadata": {},
   "outputs": [
    {
     "data": {
      "text/plain": [
       "(-1.9662029999999504, -1.683999999999969)"
      ]
     },
     "execution_count": 8,
     "metadata": {},
     "output_type": "execute_result"
    }
   ],
   "source": [
    "mace_diff = -1315.342739  - -1313.376536\n",
    "\n",
    "dft_diff = -1311.749 - -1310.065\n",
    "\n",
    "mace_diff, dft_diff"
   ]
  },
  {
   "cell_type": "code",
   "execution_count": null,
   "metadata": {},
   "outputs": [],
   "source": [
    "(-1.9664310000000569, -1.683999999999969)"
   ]
  },
  {
   "cell_type": "code",
   "execution_count": 5,
   "metadata": {},
   "outputs": [
    {
     "name": "stdout",
     "output_type": "stream",
     "text": [
      "      Step     Time          Energy         fmax\n",
      "BFGS:    0 10:45:11    -1312.278072        0.3331\n",
      "BFGS:    1 10:45:12    -1312.414895        0.2963\n",
      "BFGS:    2 10:45:13    -1313.012936        0.1485\n",
      "BFGS:    3 10:45:14    -1313.041841        0.0950\n",
      "BFGS:    4 10:45:15    -1313.077622        0.0827\n",
      "BFGS:    5 10:45:16    -1313.174067        0.0620\n",
      "BFGS:    6 10:45:17    -1313.231868        0.0744\n",
      "BFGS:    7 10:45:18    -1313.262077        0.1049\n",
      "BFGS:    8 10:45:19    -1313.275900        0.1138\n",
      "BFGS:    9 10:45:21    -1313.295478        0.1105\n",
      "BFGS:   10 10:45:21    -1313.322736        0.0882\n",
      "BFGS:   11 10:45:22    -1313.345728        0.0777\n",
      "BFGS:   12 10:45:23    -1313.356086        0.0547\n",
      "BFGS:   13 10:45:24    -1313.360998        0.0510\n",
      "BFGS:   14 10:45:25    -1313.366174        0.0406\n",
      "BFGS:   15 10:45:26    -1313.372388        0.0316\n",
      "BFGS:   16 10:45:28    -1313.376536        0.0288\n"
     ]
    },
    {
     "data": {
      "text/plain": [
       "True"
      ]
     },
     "execution_count": 5,
     "metadata": {},
     "output_type": "execute_result"
    }
   ],
   "source": [
    "atoms = read('./xyz/Ag300Pd105_L10.xyz') #-1310.065\n",
    "atoms.calc = mace_calc\n",
    "BFGS(atoms).run(fmax=0.03)\n"
   ]
  },
  {
   "cell_type": "code",
   "execution_count": 6,
   "metadata": {},
   "outputs": [
    {
     "name": "stdout",
     "output_type": "stream",
     "text": [
      "      Step     Time          Energy         fmax\n",
      "BFGS:    0 10:45:28    -1313.949175        0.3594\n",
      "BFGS:    1 10:45:29    -1314.136702        0.3198\n",
      "BFGS:    2 10:45:30    -1314.948851        0.1690\n",
      "BFGS:    3 10:45:31    -1314.988073        0.1013\n",
      "BFGS:    4 10:45:32    -1315.020065        0.0961\n",
      "BFGS:    5 10:45:33    -1315.143878        0.0716\n",
      "BFGS:    6 10:45:34    -1315.193674        0.0807\n",
      "BFGS:    7 10:45:35    -1315.218738        0.0986\n",
      "BFGS:    8 10:45:36    -1315.232392        0.0938\n",
      "BFGS:    9 10:45:37    -1315.257789        0.0795\n",
      "BFGS:   10 10:45:38    -1315.286447        0.0770\n",
      "BFGS:   11 10:45:39    -1315.306926        0.0677\n",
      "BFGS:   12 10:45:40    -1315.315688        0.0607\n",
      "BFGS:   13 10:45:41    -1315.321816        0.0560\n",
      "BFGS:   14 10:45:42    -1315.329914        0.0457\n",
      "BFGS:   15 10:45:43    -1315.338180        0.0320\n",
      "BFGS:   16 10:45:44    -1315.342739        0.0277\n"
     ]
    },
    {
     "data": {
      "text/plain": [
       "True"
      ]
     },
     "execution_count": 6,
     "metadata": {},
     "output_type": "execute_result"
    }
   ],
   "source": [
    "atoms = read('./xyz/Ag300Pd105_LEH.xyz')#-1311.749\n",
    "atoms.calc = mace_calc\n",
    "BFGS(atoms).run(fmax=0.03)"
   ]
  },
  {
   "cell_type": "code",
   "execution_count": 2,
   "metadata": {},
   "outputs": [
    {
     "name": "stdout",
     "output_type": "stream",
     "text": [
      "      Step     Time          Energy         fmax\n",
      "BFGS:    0 12:00:08       71.405059        0.6054\n",
      "BFGS:    1 12:00:08       71.046656        0.5662\n",
      "BFGS:    2 12:00:08       69.274591        0.4247\n",
      "BFGS:    3 12:00:08       69.132000        0.2756\n",
      "BFGS:    4 12:00:09       69.033023        0.2294\n",
      "BFGS:    5 12:00:09       68.413697        0.1814\n",
      "BFGS:    6 12:00:09       68.247734        0.2303\n"
     ]
    },
    {
     "ename": "KeyboardInterrupt",
     "evalue": "",
     "output_type": "error",
     "traceback": [
      "\u001b[0;31m---------------------------------------------------------------------------\u001b[0m",
      "\u001b[0;31mKeyboardInterrupt\u001b[0m                         Traceback (most recent call last)",
      "\u001b[0;32m<ipython-input-2-efa390aca84c>\u001b[0m in \u001b[0;36m<module>\u001b[0;34m\u001b[0m\n\u001b[1;32m      4\u001b[0m \u001b[0matoms\u001b[0m\u001b[0;34m.\u001b[0m\u001b[0mcalc\u001b[0m \u001b[0;34m=\u001b[0m \u001b[0mEMT\u001b[0m\u001b[0;34m(\u001b[0m\u001b[0;34m)\u001b[0m\u001b[0;34m\u001b[0m\u001b[0;34m\u001b[0m\u001b[0m\n\u001b[1;32m      5\u001b[0m \u001b[0mopt\u001b[0m \u001b[0;34m=\u001b[0m \u001b[0mBFGS\u001b[0m\u001b[0;34m(\u001b[0m\u001b[0matoms\u001b[0m\u001b[0;34m)\u001b[0m\u001b[0;34m\u001b[0m\u001b[0;34m\u001b[0m\u001b[0m\n\u001b[0;32m----> 6\u001b[0;31m \u001b[0mopt\u001b[0m\u001b[0;34m.\u001b[0m\u001b[0mrun\u001b[0m\u001b[0;34m(\u001b[0m\u001b[0mfmax\u001b[0m\u001b[0;34m=\u001b[0m\u001b[0;36m0.03\u001b[0m\u001b[0;34m,\u001b[0m \u001b[0msteps\u001b[0m\u001b[0;34m=\u001b[0m\u001b[0;36m50\u001b[0m\u001b[0;34m)\u001b[0m\u001b[0;34m\u001b[0m\u001b[0;34m\u001b[0m\u001b[0m\n\u001b[0m\u001b[1;32m      7\u001b[0m \u001b[0matoms\u001b[0m\u001b[0;34m.\u001b[0m\u001b[0mcalc\u001b[0m \u001b[0;34m=\u001b[0m \u001b[0;32mNone\u001b[0m\u001b[0;34m\u001b[0m\u001b[0;34m\u001b[0m\u001b[0m\n",
      "\u001b[0;32m~/.conda/envs/farris/lib/python3.9/site-packages/ase/optimize/optimize.py\u001b[0m in \u001b[0;36mrun\u001b[0;34m(self, fmax, steps)\u001b[0m\n\u001b[1;32m    267\u001b[0m         \u001b[0;32mif\u001b[0m \u001b[0msteps\u001b[0m\u001b[0;34m:\u001b[0m\u001b[0;34m\u001b[0m\u001b[0;34m\u001b[0m\u001b[0m\n\u001b[1;32m    268\u001b[0m             \u001b[0mself\u001b[0m\u001b[0;34m.\u001b[0m\u001b[0mmax_steps\u001b[0m \u001b[0;34m=\u001b[0m \u001b[0msteps\u001b[0m\u001b[0;34m\u001b[0m\u001b[0;34m\u001b[0m\u001b[0m\n\u001b[0;32m--> 269\u001b[0;31m         \u001b[0;32mreturn\u001b[0m \u001b[0mDynamics\u001b[0m\u001b[0;34m.\u001b[0m\u001b[0mrun\u001b[0m\u001b[0;34m(\u001b[0m\u001b[0mself\u001b[0m\u001b[0;34m)\u001b[0m\u001b[0;34m\u001b[0m\u001b[0;34m\u001b[0m\u001b[0m\n\u001b[0m\u001b[1;32m    270\u001b[0m \u001b[0;34m\u001b[0m\u001b[0m\n\u001b[1;32m    271\u001b[0m     \u001b[0;32mdef\u001b[0m \u001b[0mconverged\u001b[0m\u001b[0;34m(\u001b[0m\u001b[0mself\u001b[0m\u001b[0;34m,\u001b[0m \u001b[0mforces\u001b[0m\u001b[0;34m=\u001b[0m\u001b[0;32mNone\u001b[0m\u001b[0;34m)\u001b[0m\u001b[0;34m:\u001b[0m\u001b[0;34m\u001b[0m\u001b[0;34m\u001b[0m\u001b[0m\n",
      "\u001b[0;32m~/.conda/envs/farris/lib/python3.9/site-packages/ase/optimize/optimize.py\u001b[0m in \u001b[0;36mrun\u001b[0;34m(self)\u001b[0m\n\u001b[1;32m    154\u001b[0m         *steps*.\"\"\"\n\u001b[1;32m    155\u001b[0m \u001b[0;34m\u001b[0m\u001b[0m\n\u001b[0;32m--> 156\u001b[0;31m         \u001b[0;32mfor\u001b[0m \u001b[0mconverged\u001b[0m \u001b[0;32min\u001b[0m \u001b[0mDynamics\u001b[0m\u001b[0;34m.\u001b[0m\u001b[0mirun\u001b[0m\u001b[0;34m(\u001b[0m\u001b[0mself\u001b[0m\u001b[0;34m)\u001b[0m\u001b[0;34m:\u001b[0m\u001b[0;34m\u001b[0m\u001b[0;34m\u001b[0m\u001b[0m\n\u001b[0m\u001b[1;32m    157\u001b[0m             \u001b[0;32mpass\u001b[0m\u001b[0;34m\u001b[0m\u001b[0;34m\u001b[0m\u001b[0m\n\u001b[1;32m    158\u001b[0m         \u001b[0;32mreturn\u001b[0m \u001b[0mconverged\u001b[0m\u001b[0;34m\u001b[0m\u001b[0;34m\u001b[0m\u001b[0m\n",
      "\u001b[0;32m~/.conda/envs/farris/lib/python3.9/site-packages/ase/optimize/optimize.py\u001b[0m in \u001b[0;36mirun\u001b[0;34m(self)\u001b[0m\n\u001b[1;32m    133\u001b[0m \u001b[0;34m\u001b[0m\u001b[0m\n\u001b[1;32m    134\u001b[0m             \u001b[0;31m# compute the next step\u001b[0m\u001b[0;34m\u001b[0m\u001b[0;34m\u001b[0m\u001b[0;34m\u001b[0m\u001b[0m\n\u001b[0;32m--> 135\u001b[0;31m             \u001b[0mself\u001b[0m\u001b[0;34m.\u001b[0m\u001b[0mstep\u001b[0m\u001b[0;34m(\u001b[0m\u001b[0;34m)\u001b[0m\u001b[0;34m\u001b[0m\u001b[0;34m\u001b[0m\u001b[0m\n\u001b[0m\u001b[1;32m    136\u001b[0m             \u001b[0mself\u001b[0m\u001b[0;34m.\u001b[0m\u001b[0mnsteps\u001b[0m \u001b[0;34m+=\u001b[0m \u001b[0;36m1\u001b[0m\u001b[0;34m\u001b[0m\u001b[0;34m\u001b[0m\u001b[0m\n\u001b[1;32m    137\u001b[0m \u001b[0;34m\u001b[0m\u001b[0m\n",
      "\u001b[0;32m~/.conda/envs/farris/lib/python3.9/site-packages/ase/optimize/bfgs.py\u001b[0m in \u001b[0;36mstep\u001b[0;34m(self, f)\u001b[0m\n\u001b[1;32m     88\u001b[0m         \u001b[0mf\u001b[0m \u001b[0;34m=\u001b[0m \u001b[0mf\u001b[0m\u001b[0;34m.\u001b[0m\u001b[0mreshape\u001b[0m\u001b[0;34m(\u001b[0m\u001b[0;34m-\u001b[0m\u001b[0;36m1\u001b[0m\u001b[0;34m)\u001b[0m\u001b[0;34m\u001b[0m\u001b[0;34m\u001b[0m\u001b[0m\n\u001b[1;32m     89\u001b[0m         \u001b[0mself\u001b[0m\u001b[0;34m.\u001b[0m\u001b[0mupdate\u001b[0m\u001b[0;34m(\u001b[0m\u001b[0mr\u001b[0m\u001b[0;34m.\u001b[0m\u001b[0mflat\u001b[0m\u001b[0;34m,\u001b[0m \u001b[0mf\u001b[0m\u001b[0;34m,\u001b[0m \u001b[0mself\u001b[0m\u001b[0;34m.\u001b[0m\u001b[0mr0\u001b[0m\u001b[0;34m,\u001b[0m \u001b[0mself\u001b[0m\u001b[0;34m.\u001b[0m\u001b[0mf0\u001b[0m\u001b[0;34m)\u001b[0m\u001b[0;34m\u001b[0m\u001b[0;34m\u001b[0m\u001b[0m\n\u001b[0;32m---> 90\u001b[0;31m         \u001b[0momega\u001b[0m\u001b[0;34m,\u001b[0m \u001b[0mV\u001b[0m \u001b[0;34m=\u001b[0m \u001b[0meigh\u001b[0m\u001b[0;34m(\u001b[0m\u001b[0mself\u001b[0m\u001b[0;34m.\u001b[0m\u001b[0mH\u001b[0m\u001b[0;34m)\u001b[0m\u001b[0;34m\u001b[0m\u001b[0;34m\u001b[0m\u001b[0m\n\u001b[0m\u001b[1;32m     91\u001b[0m \u001b[0;34m\u001b[0m\u001b[0m\n\u001b[1;32m     92\u001b[0m         \u001b[0;31m# FUTURE: Log this properly\u001b[0m\u001b[0;34m\u001b[0m\u001b[0;34m\u001b[0m\u001b[0;34m\u001b[0m\u001b[0m\n",
      "\u001b[0;32m~/.conda/envs/farris/lib/python3.9/site-packages/numpy/core/overrides.py\u001b[0m in \u001b[0;36meigh\u001b[0;34m(*args, **kwargs)\u001b[0m\n",
      "\u001b[0;32m~/.conda/envs/farris/lib/python3.9/site-packages/numpy/linalg/linalg.py\u001b[0m in \u001b[0;36meigh\u001b[0;34m(a, UPLO)\u001b[0m\n\u001b[1;32m   1463\u001b[0m \u001b[0;34m\u001b[0m\u001b[0m\n\u001b[1;32m   1464\u001b[0m     \u001b[0msignature\u001b[0m \u001b[0;34m=\u001b[0m \u001b[0;34m'D->dD'\u001b[0m \u001b[0;32mif\u001b[0m \u001b[0misComplexType\u001b[0m\u001b[0;34m(\u001b[0m\u001b[0mt\u001b[0m\u001b[0;34m)\u001b[0m \u001b[0;32melse\u001b[0m \u001b[0;34m'd->dd'\u001b[0m\u001b[0;34m\u001b[0m\u001b[0;34m\u001b[0m\u001b[0m\n\u001b[0;32m-> 1465\u001b[0;31m     \u001b[0mw\u001b[0m\u001b[0;34m,\u001b[0m \u001b[0mvt\u001b[0m \u001b[0;34m=\u001b[0m \u001b[0mgufunc\u001b[0m\u001b[0;34m(\u001b[0m\u001b[0ma\u001b[0m\u001b[0;34m,\u001b[0m \u001b[0msignature\u001b[0m\u001b[0;34m=\u001b[0m\u001b[0msignature\u001b[0m\u001b[0;34m,\u001b[0m \u001b[0mextobj\u001b[0m\u001b[0;34m=\u001b[0m\u001b[0mextobj\u001b[0m\u001b[0;34m)\u001b[0m\u001b[0;34m\u001b[0m\u001b[0;34m\u001b[0m\u001b[0m\n\u001b[0m\u001b[1;32m   1466\u001b[0m     \u001b[0mw\u001b[0m \u001b[0;34m=\u001b[0m \u001b[0mw\u001b[0m\u001b[0;34m.\u001b[0m\u001b[0mastype\u001b[0m\u001b[0;34m(\u001b[0m\u001b[0m_realType\u001b[0m\u001b[0;34m(\u001b[0m\u001b[0mresult_t\u001b[0m\u001b[0;34m)\u001b[0m\u001b[0;34m,\u001b[0m \u001b[0mcopy\u001b[0m\u001b[0;34m=\u001b[0m\u001b[0;32mFalse\u001b[0m\u001b[0;34m)\u001b[0m\u001b[0;34m\u001b[0m\u001b[0;34m\u001b[0m\u001b[0m\n\u001b[1;32m   1467\u001b[0m     \u001b[0mvt\u001b[0m \u001b[0;34m=\u001b[0m \u001b[0mvt\u001b[0m\u001b[0;34m.\u001b[0m\u001b[0mastype\u001b[0m\u001b[0;34m(\u001b[0m\u001b[0mresult_t\u001b[0m\u001b[0;34m,\u001b[0m \u001b[0mcopy\u001b[0m\u001b[0;34m=\u001b[0m\u001b[0;32mFalse\u001b[0m\u001b[0;34m)\u001b[0m\u001b[0;34m\u001b[0m\u001b[0;34m\u001b[0m\u001b[0m\n",
      "\u001b[0;31mKeyboardInterrupt\u001b[0m: "
     ]
    }
   ],
   "source": [
    "atoms = Octahedron('Ag', 9,3)\n",
    "atoms.center(5)\n",
    "#atoms.calc = mace_mp(model=\"/work/g15farris/2023-12-03-mace-128-L1_epoch-199.model\", dtype=float64)\n",
    "atoms.calc = EMT()\n",
    "opt = BFGS(atoms)\n",
    "opt.run(fmax=0.03, steps=50)\n",
    "atoms.calc = None"
   ]
  },
  {
   "cell_type": "code",
   "execution_count": null,
   "metadata": {},
   "outputs": [
    {
     "name": "stdout",
     "output_type": "stream",
     "text": [
      "Using float32 for MACECalculator, which is faster but less accurate. Recommended for MD. Use float64 for geometry optimization.\n",
      "Default dtype float32 does not match model dtype float64, converting models to float32.\n",
      "      Step     Time          Energy         fmax\n",
      "BFGS:    0 10:21:58    -1055.544067        0.5681\n",
      "BFGS:    1 10:21:59    -1055.552979        0.5243\n",
      "BFGS:    2 10:22:00    -1055.593140        0.3484\n",
      "BFGS:    3 10:22:01    -1055.595215        0.2544\n",
      "BFGS:    4 10:22:02    -1055.598633        0.1765\n",
      "BFGS:    5 10:22:03    -1055.606689        0.1515\n",
      "BFGS:    6 10:22:05    -1055.611084        0.1260\n",
      "BFGS:    7 10:22:07    -1055.612549        0.0969\n",
      "BFGS:    8 10:22:08    -1055.613892        0.0844\n",
      "BFGS:    9 10:22:09    -1055.615723        0.0692\n",
      "BFGS:   10 10:22:11    -1055.617554        0.0627\n",
      "BFGS:   11 10:22:12    -1055.618652        0.0514\n",
      "BFGS:   12 10:22:13    -1055.619385        0.0350\n",
      "BFGS:   13 10:22:14    -1055.619507        0.0344\n",
      "BFGS:   14 10:22:16    -1055.620361        0.0445\n",
      "BFGS:   15 10:22:17    -1055.620728        0.0472\n",
      "BFGS:   16 10:22:18    -1055.620972        0.0329\n",
      "BFGS:   17 10:22:19    -1055.621826        0.0156\n",
      "4.25 6 -1055.621826171875\n",
      "Using float32 for MACECalculator, which is faster but less accurate. Recommended for MD. Use float64 for geometry optimization.\n",
      "Default dtype float32 does not match model dtype float64, converting models to float32.\n",
      "      Step     Time          Energy         fmax\n",
      "BFGS:    0 10:22:20    -1055.589233        0.5386\n",
      "BFGS:    1 10:22:21    -1055.597412        0.5068\n",
      "BFGS:    2 10:22:22    -1055.642090        0.2831\n",
      "BFGS:    3 10:22:24    -1055.644897        0.1992\n",
      "BFGS:    4 10:22:25    -1055.647949        0.1502\n",
      "BFGS:    5 10:22:26    -1055.660034        0.1489\n",
      "BFGS:    6 10:22:27    -1055.665161        0.1108\n",
      "BFGS:    7 10:22:28    -1055.667603        0.0783\n",
      "BFGS:    8 10:22:30    -1055.669067        0.0695\n",
      "BFGS:    9 10:22:31    -1055.670776        0.0694\n",
      "BFGS:   10 10:22:32    -1055.672852        0.0812\n",
      "BFGS:   11 10:22:33    -1055.674927        0.0657\n",
      "BFGS:   12 10:22:34    -1055.675659        0.0401\n",
      "BFGS:   13 10:22:36    -1055.676147        0.0331\n",
      "BFGS:   14 10:22:38    -1055.676758        0.0407\n",
      "BFGS:   15 10:22:41    -1055.677612        0.0476\n",
      "BFGS:   16 10:22:42    -1055.678101        0.0356\n",
      "BFGS:   17 10:22:45    -1055.678467        0.0228\n",
      "5.25 7 -1055.678466796875\n",
      "Using float32 for MACECalculator, which is faster but less accurate. Recommended for MD. Use float64 for geometry optimization.\n",
      "Default dtype float32 does not match model dtype float64, converting models to float32.\n",
      "      Step     Time          Energy         fmax\n",
      "BFGS:    0 10:22:46    -1055.652954        0.4831\n",
      "BFGS:    1 10:22:47    -1055.660156        0.4624\n",
      "BFGS:    2 10:22:48    -1055.713135        0.2438\n",
      "BFGS:    3 10:22:49    -1055.716919        0.1785\n",
      "BFGS:    4 10:22:51    -1055.721436        0.1341\n",
      "BFGS:    5 10:22:54    -1055.734863        0.1273\n",
      "BFGS:    6 10:22:56    -1055.741699        0.0818\n",
      "BFGS:    7 10:22:58    -1055.744263        0.0543\n",
      "BFGS:    8 10:22:59    -1055.745728        0.0489\n",
      "BFGS:    9 10:23:00    -1055.746948        0.0581\n",
      "BFGS:   10 10:23:02    -1055.748901        0.0655\n",
      "BFGS:   11 10:23:05    -1055.750488        0.0415\n",
      "BFGS:   12 10:23:06    -1055.751465        0.0332\n",
      "BFGS:   13 10:23:08    -1055.751953        0.0316\n",
      "BFGS:   14 10:23:09    -1055.752441        0.0330\n",
      "BFGS:   15 10:23:10    -1055.753418        0.0421\n",
      "BFGS:   16 10:23:11    -1055.753906        0.0334\n",
      "BFGS:   17 10:23:14    -1055.754028        0.0160\n",
      "6.5 8 -1055.7540283203125\n",
      "Using float32 for MACECalculator, which is faster but less accurate. Recommended for MD. Use float64 for geometry optimization.\n",
      "Default dtype float32 does not match model dtype float64, converting models to float32.\n",
      "      Step     Time          Energy         fmax\n",
      "BFGS:    0 10:23:14    -1055.751343        0.4042\n",
      "BFGS:    1 10:23:16    -1055.759155        0.3882\n",
      "BFGS:    2 10:23:17    -1055.813965        0.1765\n",
      "BFGS:    3 10:23:18    -1055.816406        0.1352\n",
      "BFGS:    4 10:23:20    -1055.819946        0.1227\n",
      "BFGS:    5 10:23:22    -1055.826294        0.1094\n",
      "BFGS:    6 10:23:23    -1055.829834        0.0685\n",
      "BFGS:    7 10:23:25    -1055.831055        0.0663\n",
      "BFGS:    8 10:23:26    -1055.832153        0.0488\n",
      "BFGS:    9 10:23:27    -1055.833252        0.0412\n",
      "BFGS:   10 10:23:29    -1055.834473        0.0515\n",
      "BFGS:   11 10:23:31    -1055.835327        0.0422\n",
      "BFGS:   12 10:23:33    -1055.836182        0.0377\n",
      "BFGS:   13 10:23:37    -1055.836304        0.0304\n",
      "BFGS:   14 10:23:38    -1055.836670        0.0261\n",
      "6.92 9 -1055.836669921875\n",
      "Using float32 for MACECalculator, which is faster but less accurate. Recommended for MD. Use float64 for geometry optimization.\n",
      "Default dtype float32 does not match model dtype float64, converting models to float32.\n",
      "      Step     Time          Energy         fmax\n",
      "BFGS:    0 10:23:39    -1055.790771        0.3498\n",
      "BFGS:    1 10:23:40    -1055.797119        0.3355\n",
      "BFGS:    2 10:23:42    -1055.838135        0.0946\n",
      "BFGS:    3 10:23:44    -1055.839233        0.1005\n",
      "BFGS:    4 10:23:47    -1055.847290        0.1021\n",
      "BFGS:    5 10:23:48    -1055.851074        0.0617\n",
      "BFGS:    6 10:23:49    -1055.853149        0.0307\n",
      "BFGS:    7 10:23:51    -1055.853516        0.0299\n",
      "7.5 9 -1055.853515625\n",
      "Using float32 for MACECalculator, which is faster but less accurate. Recommended for MD. Use float64 for geometry optimization.\n",
      "Default dtype float32 does not match model dtype float64, converting models to float32.\n",
      "      Step     Time          Energy         fmax\n",
      "BFGS:    0 10:23:51    -1055.568604        0.5189\n",
      "BFGS:    1 10:23:52    -1055.576660        0.4847\n",
      "BFGS:    2 10:23:54    -1055.618896        0.3466\n",
      "BFGS:    3 10:23:55    -1055.621948        0.2549\n",
      "BFGS:    4 10:23:56    -1055.625000        0.1897\n",
      "BFGS:    5 10:23:57    -1055.634766        0.1506\n",
      "BFGS:    6 10:23:59    -1055.639404        0.1301\n",
      "BFGS:    7 10:24:00    -1055.641724        0.1095\n",
      "BFGS:    8 10:24:01    -1055.643066        0.0968\n",
      "BFGS:    9 10:24:03    -1055.644287        0.0701\n",
      "BFGS:   10 10:24:05    -1055.646240        0.0531\n",
      "BFGS:   11 10:24:06    -1055.647705        0.0561\n",
      "BFGS:   12 10:24:07    -1055.648560        0.0315\n",
      "BFGS:   13 10:24:08    -1055.649170        0.0273\n",
      "5.0 7 -1055.649169921875\n",
      "Using float32 for MACECalculator, which is faster but less accurate. Recommended for MD. Use float64 for geometry optimization.\n",
      "Default dtype float32 does not match model dtype float64, converting models to float32.\n",
      "      Step     Time          Energy         fmax\n",
      "BFGS:    0 10:24:09    -1055.935791        0.2468\n",
      "BFGS:    1 10:24:11    -1055.940918        0.2292\n",
      "BFGS:    2 10:24:12    -1055.973755        0.0968\n",
      "BFGS:    3 10:24:13    -1055.974854        0.0597\n",
      "BFGS:    4 10:24:14    -1055.977051        0.0497\n",
      "BFGS:    5 10:24:15    -1055.981323        0.0391\n",
      "BFGS:    6 10:24:16    -1055.983521        0.0354\n",
      "BFGS:    7 10:24:17    -1055.984741        0.0285\n",
      "10.58 12 -1055.9847412109375\n",
      "Using float32 for MACECalculator, which is faster but less accurate. Recommended for MD. Use float64 for geometry optimization.\n",
      "Default dtype float32 does not match model dtype float64, converting models to float32.\n",
      "      Step     Time          Energy         fmax\n",
      "BFGS:    0 10:24:18    -1055.764648        0.3710\n",
      "BFGS:    1 10:24:19    -1055.771729        0.3563\n",
      "BFGS:    2 10:24:20    -1055.820190        0.1365\n",
      "BFGS:    3 10:24:21    -1055.822144        0.1118\n",
      "BFGS:    4 10:24:22    -1055.827148        0.1158\n",
      "BFGS:    5 10:24:23    -1055.832886        0.0951\n",
      "BFGS:    6 10:24:24    -1055.835938        0.0512\n",
      "BFGS:    7 10:24:26    -1055.836914        0.0393\n",
      "BFGS:    8 10:24:27    -1055.837646        0.0355\n",
      "BFGS:    9 10:24:28    -1055.838745        0.0434\n",
      "BFGS:   10 10:24:29    -1055.840088        0.0474\n",
      "BFGS:   11 10:24:30    -1055.840942        0.0359\n",
      "BFGS:   12 10:24:31    -1055.841187        0.0236\n",
      "7.17 9 -1055.8411865234375\n",
      "Using float32 for MACECalculator, which is faster but less accurate. Recommended for MD. Use float64 for geometry optimization.\n",
      "Default dtype float32 does not match model dtype float64, converting models to float32.\n",
      "      Step     Time          Energy         fmax\n",
      "BFGS:    0 10:24:32    -1056.015137        0.2634\n",
      "BFGS:    1 10:24:33    -1056.022339        0.2436\n",
      "BFGS:    2 10:24:34    -1056.059570        0.0930\n",
      "BFGS:    3 10:24:35    -1056.061401        0.0604\n",
      "BFGS:    4 10:24:36    -1056.062622        0.0550\n",
      "BFGS:    5 10:24:37    -1056.068481        0.0337\n",
      "BFGS:    6 10:24:38    -1056.069092        0.0369\n",
      "BFGS:    7 10:24:39    -1056.070068        0.0346\n",
      "BFGS:    8 10:24:40    -1056.070923        0.0338\n",
      "BFGS:    9 10:24:42    -1056.071899        0.0422\n",
      "BFGS:   10 10:24:43    -1056.072998        0.0343\n",
      "BFGS:   11 10:24:45    -1056.073486        0.0192\n",
      "10.25 12 -1056.073486328125\n",
      "Using float32 for MACECalculator, which is faster but less accurate. Recommended for MD. Use float64 for geometry optimization.\n",
      "Default dtype float32 does not match model dtype float64, converting models to float32.\n",
      "      Step     Time          Energy         fmax\n",
      "BFGS:    0 10:24:45    -1055.961426        0.1621\n",
      "BFGS:    1 10:24:46    -1055.965820        0.1536\n",
      "BFGS:    2 10:24:49    -1055.991455        0.0684\n",
      "BFGS:    3 10:24:50    -1055.992188        0.0644\n",
      "BFGS:    4 10:24:51    -1055.999146        0.0266\n",
      "11.25 12 -1055.9991455078125\n",
      "Using float32 for MACECalculator, which is faster but less accurate. Recommended for MD. Use float64 for geometry optimization.\n",
      "Default dtype float32 does not match model dtype float64, converting models to float32.\n",
      "      Step     Time          Energy         fmax\n",
      "BFGS:    0 10:24:52    -1056.021362        0.3261\n",
      "BFGS:    1 10:24:53    -1056.030029        0.3019\n",
      "BFGS:    2 10:24:54    -1056.071289        0.2108\n",
      "BFGS:    3 10:24:55    -1056.074219        0.0893\n",
      "BFGS:    4 10:24:56    -1056.075317        0.0758\n",
      "BFGS:    5 10:24:57    -1056.083374        0.0618\n",
      "BFGS:    6 10:24:58    -1056.084106        0.0560\n",
      "BFGS:    7 10:24:59    -1056.086548        0.0327\n",
      "BFGS:    8 10:25:01    -1056.087524        0.0348\n",
      "BFGS:    9 10:25:02    -1056.088379        0.0284\n",
      "9.83 12 -1056.08837890625\n",
      "Using float32 for MACECalculator, which is faster but less accurate. Recommended for MD. Use float64 for geometry optimization.\n",
      "Default dtype float32 does not match model dtype float64, converting models to float32.\n",
      "      Step     Time          Energy         fmax\n",
      "BFGS:    0 10:25:02    -1056.027954        0.1268\n",
      "BFGS:    1 10:25:03    -1056.031616        0.1174\n",
      "BFGS:    2 10:25:04    -1056.049927        0.0568\n",
      "BFGS:    3 10:25:05    -1056.050659        0.0532\n",
      "BFGS:    4 10:25:06    -1056.057739        0.0271\n",
      "12.0 12 -1056.0577392578125\n",
      "Using float32 for MACECalculator, which is faster but less accurate. Recommended for MD. Use float64 for geometry optimization.\n",
      "Default dtype float32 does not match model dtype float64, converting models to float32.\n",
      "      Step     Time          Energy         fmax\n",
      "BFGS:    0 10:25:07    -1056.021118        0.2177\n",
      "BFGS:    1 10:25:08    -1056.026855        0.2044\n",
      "BFGS:    2 10:25:09    -1056.059570        0.0518\n",
      "BFGS:    3 10:25:10    -1056.060547        0.0335\n",
      "BFGS:    4 10:25:11    -1056.061890        0.0342\n",
      "BFGS:    5 10:25:12    -1056.064941        0.0379\n",
      "BFGS:    6 10:25:13    -1056.067017        0.0248\n",
      "10.67 12 -1056.0670166015625\n"
     ]
    }
   ],
   "source": [
    "from Core.Nanoparticle import Nanoparticle\n",
    "import copy \n",
    "\n",
    "nano = Nanoparticle()\n",
    "nano.add_atoms(atoms)\n",
    "gen_cns = nano.get_generalized_coordination_numbers([[x] for x in range(405)])\n",
    "\n",
    "results = []\n",
    "for gcn, indices in gen_cns.items():\n",
    "    atoms_pd = copy.deepcopy(atoms)\n",
    "    atoms_pd[indices[0][0]].symbol = 'Pd'\n",
    "    atoms_pd.calc = EMT()\n",
    "    #atoms_pd.calc = mace_mp(model=\"/work/g15farris/2023-12-03-mace-128-L1_epoch-199.model\")\n",
    "    opt = BFGS(atoms_pd)\n",
    "    opt.run(fmax=0.03, steps=50)\n",
    "    print(gcn, nano.get_coordination_number(indices[0][0]), atoms_pd.get_potential_energy()) \n",
    "    results.append((gcn, nano.get_coordination_number(indices[0][0]), atoms_pd.get_potential_energy(), atoms_pd))"
   ]
  },
  {
   "cell_type": "code",
   "execution_count": null,
   "metadata": {},
   "outputs": [
    {
     "data": {
      "image/png": "[encoded data removed]",
      "text/plain": [
       "<Figure size 432x288 with 1 Axes>"
      ]
     },
     "metadata": {
      "needs_background": "light"
     },
     "output_type": "display_data"
    }
   ],
   "source": [
    "import matplotlib.pyplot as plt\n",
    "from ase.io import write, read\n",
    "\n",
    "for res in results:\n",
    "    gcn, cn, ene, atoms = res\n",
    "    #write(f'xyz/Ag404Pd1_gnc_{gcn}_cn_{cn}_E_{ene:1.3f}.xyz', atoms)\n",
    "    plt.scatter(gcn, ene, color='red')\n",
    "    plt.scatter(cn, ene, color='blue')"
   ]
  },
  {
   "cell_type": "code",
   "execution_count": 35,
   "metadata": {},
   "outputs": [
    {
     "data": {
      "image/png": "[encoded data removed]",
      "text/plain": [
       "<Figure size 432x288 with 1 Axes>"
      ]
     },
     "metadata": {
      "needs_background": "light"
     },
     "output_type": "display_data"
    }
   ],
   "source": [
    "import matplotlib.pyplot as plt\n",
    "from ase.io import write, read\n",
    "\n",
    "for res in results:\n",
    "    gcn, cn, ene, atoms = res\n",
    "    #write(f'xyz/Ag404Pd1_gnc_{gcn}_cn_{cn}_E_{ene:1.3f}.xyz', atoms)\n",
    "    plt.scatter(gcn, ene, color='red')\n",
    "    plt.scatter(cn, ene, color='blue')\n",
    "    "
   ]
  },
  {
   "cell_type": "code",
   "execution_count": 17,
   "metadata": {},
   "outputs": [
    {
     "name": "stdout",
     "output_type": "stream",
     "text": [
      "xyz/Ag404Pd1_gnc_4.25_cn_6_E_-0.311.xyz\n",
      "xyz/Ag404Pd1_gnc_5.25_cn_7_E_-0.320.xyz\n",
      "xyz/Ag404Pd1_gnc_6.5_cn_8_E_-0.380.xyz\n",
      "xyz/Ag404Pd1_gnc_6.92_cn_9_E_-0.324.xyz\n",
      "xyz/Ag404Pd1_gnc_7.5_cn_9_E_-0.320.xyz\n",
      "xyz/Ag404Pd1_gnc_5.0_cn_7_E_-0.317.xyz\n",
      "xyz/Ag404Pd1_gnc_10.58_cn_12_E_-0.308.xyz\n",
      "xyz/Ag404Pd1_gnc_7.17_cn_9_E_-0.328.xyz\n",
      "xyz/Ag404Pd1_gnc_10.25_cn_12_E_-0.323.xyz\n",
      "xyz/Ag404Pd1_gnc_11.25_cn_12_E_-0.302.xyz\n",
      "xyz/Ag404Pd1_gnc_9.83_cn_12_E_-0.321.xyz\n",
      "xyz/Ag404Pd1_gnc_12.0_cn_12_E_-0.308.xyz\n",
      "xyz/Ag404Pd1_gnc_10.67_cn_12_E_-0.327.xyz\n"
     ]
    },
    {
     "data": {
      "application/vnd.jupyter.widget-view+json": {
       "model_id": "06224139044b4351b8d72ab96b7cf46a",
       "version_major": 2,
       "version_minor": 0
      },
      "text/plain": [
       "HBox(children=(NGLWidget(), VBox(children=(Dropdown(description='Show', options=('All', 'Pd', 'Ag'), value='Al…"
      ]
     },
     "metadata": {},
     "output_type": "display_data"
    }
   ],
   "source": [
    "from ase.visualize import view\n",
    "import glob\n",
    "\n",
    "traj = []\n",
    "for x in glob.glob('xyz/*'):\n",
    "    print(x)\n",
    "    traj.append(read(x))\n",
    "\n",
    "view(traj[-2], viewer='ngl')"
   ]
  },
  {
   "cell_type": "code",
   "execution_count": null,
   "metadata": {},
   "outputs": [],
   "source": []
  }
 ],
 "metadata": {
  "kernelspec": {
   "display_name": "farris",
   "language": "python",
   "name": "python3"
  },
  "language_info": {
   "codemirror_mode": {
    "name": "ipython",
    "version": 3
   },
   "file_extension": ".py",
   "mimetype": "text/x-python",
   "name": "python",
   "nbconvert_exporter": "python",
   "pygments_lexer": "ipython3",
   "version": "3.9.1"
  }
 },
 "nbformat": 4,
 "nbformat_minor": 2
}
