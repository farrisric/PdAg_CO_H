{
 "cells": [
  {
   "cell_type": "code",
   "execution_count": 67,
   "metadata": {},
   "outputs": [],
   "source": [
    "from ase.build import fcc111, molecule\n",
    "from ase.visualize import view\n",
    "from acat.adsorption_sites import SlabAdsorptionSites\n",
    "from mace.calculators import mace_mp\n",
    "from acat.build.adlayer import min_dist_coverage_pattern\n",
    "from ase.optimize import BFGS\n",
    "from acat.build import add_adsorbate_to_site\n",
    "from ase.io import write, read\n",
    "import copy\n",
    "import numpy as np"
   ]
  },
  {
   "cell_type": "code",
   "execution_count": 83,
   "metadata": {},
   "outputs": [
    {
     "data": {
      "text/plain": [
       "array([-6. , -5.5, -5. , -4.5, -4. , -3.5, -3. , -2.5, -2. , -1.5, -1. ,\n",
       "       -0.5])"
      ]
     },
     "execution_count": 83,
     "metadata": {},
     "output_type": "execute_result"
    }
   ],
   "source": [
    "tasks = np.arange(-6., 0., 0.5)\n",
    "tasks"
   ]
  },
  {
   "cell_type": "code",
   "execution_count": 28,
   "metadata": {},
   "outputs": [
    {
     "name": "stdout",
     "output_type": "stream",
     "text": [
      "Using Materials Project MACE for MACECalculator with /home/riccardo/.cache/mace/5yyxdm76\n",
      "Using float32 for MACECalculator, which is faster but less accurate. Recommended for MD. Use float64 for geometry optimization.\n",
      "Default dtype float32 does not match model dtype float64, converting models to float32.\n"
     ]
    }
   ],
   "source": [
    "mace_calc = mace_mp()"
   ]
  },
  {
   "cell_type": "code",
   "execution_count": 76,
   "metadata": {},
   "outputs": [
    {
     "data": {
      "text/plain": [
       "<Popen: returncode: None args: ['/home/riccardo/anaconda3/envs/npl/bin/pytho...>"
      ]
     },
     "execution_count": 76,
     "metadata": {},
     "output_type": "execute_result"
    }
   ],
   "source": [
    "slab = fcc111('Ag', (4, 4, 4), vacuum=5., orthogonal=True, periodic=True)\n",
    "layers = {x : [] for x in np.unique(slab.positions[:,2])}\n",
    "\n",
    "for x in slab:\n",
    "    layers[x.position[2]].append(x.index)\n",
    "slab = min_dist_coverage_pattern(slab, 'H', min_adsorbate_distance=2, surface='fcc111')\n",
    "\n",
    "view(slab)"
   ]
  },
  {
   "cell_type": "code",
   "execution_count": 79,
   "metadata": {},
   "outputs": [
    {
     "name": "stdout",
     "output_type": "stream",
     "text": [
      "-255.69667053222656\n"
     ]
    },
    {
     "name": "stderr",
     "output_type": "stream",
     "text": [
      "/home/riccardo/anaconda3/envs/npl/lib/python3.11/site-packages/ase/io/extxyz.py:302: UserWarning: Skipping unhashable information adsorbate_info\n"
     ]
    },
    {
     "name": "stdout",
     "output_type": "stream",
     "text": [
      "-260.9299621582031\n",
      "-258.9673156738281\n",
      "-268.3700866699219\n"
     ]
    }
   ],
   "source": [
    "layer_i = 0\n",
    "for layer, idxs in layers.items():\n",
    "    slab_copy = copy.deepcopy(slab)\n",
    "    for x in idxs:\n",
    "        slab_copy[x].symbol = 'Pd'\n",
    "    slab_copy = relax(slab_copy)\n",
    "    print(slab_copy.get_potential_energy())\n",
    "    write(f'xyz/{slab_copy.get_chemical_formula()}_layer{layer_i}.xyz', slab_copy)\n",
    "    layer_i += 1\n",
    "    "
   ]
  },
  {
   "cell_type": "code",
   "execution_count": 45,
   "metadata": {},
   "outputs": [
    {
     "name": "stdout",
     "output_type": "stream",
     "text": [
      "-173.6931610107422\n"
     ]
    }
   ],
   "source": [
    "slab = fcc111('Ag', (4, 4, 4), vacuum=5., orthogonal=True, periodic=True)\n",
    "slab[58].symbol = 'Pd'\n",
    "slab = relax(slab)\n",
    "print(slab.get_potential_energy())"
   ]
  },
  {
   "cell_type": "code",
   "execution_count": 16,
   "metadata": {},
   "outputs": [
    {
     "name": "stdout",
     "output_type": "stream",
     "text": [
      "-173.86782836914062\n"
     ]
    },
    {
     "data": {
      "text/plain": [
       "<Popen: returncode: None args: ['/home/riccardo/anaconda3/envs/npl/bin/pytho...>"
      ]
     },
     "execution_count": 16,
     "metadata": {},
     "output_type": "execute_result"
    }
   ],
   "source": [
    "slab = fcc111('Ag', (4, 4, 4), vacuum=5., orthogonal=True, periodic=True)\n",
    "slab[22].symbol = 'Pd'\n",
    "slab = relax(slab)\n",
    "print(slab.get_potential_energy())"
   ]
  },
  {
   "cell_type": "code",
   "execution_count": null,
   "metadata": {},
   "outputs": [],
   "source": []
  },
  {
   "cell_type": "code",
   "execution_count": 42,
   "metadata": {},
   "outputs": [],
   "source": [
    "sas = SlabAdsorptionSites(slab, surface='fcc111',\n",
    "                          composition_effect=True)\n",
    "\n",
    "surface_ads = [] \n",
    "sampled = []\n",
    "for site in sas.get_sites():\n",
    "    if 'Pd' in site['composition'] and site['site'] not in sampled:\n",
    "        slab_copy = copy.deepcopy(slab)\n",
    "        add_adsorbate_to_site(slab_copy, adsorbate='H', site=site)\n",
    "        surface_ads.append((slab_copy, site['site']))\n",
    "        sampled.append(site['site'])"
   ]
  },
  {
   "cell_type": "code",
   "execution_count": 49,
   "metadata": {},
   "outputs": [],
   "source": [
    "h2 = relax(molecule('H2'))"
   ]
  },
  {
   "cell_type": "code",
   "execution_count": 51,
   "metadata": {},
   "outputs": [
    {
     "name": "stdout",
     "output_type": "stream",
     "text": [
      "-0.30016326904296875 fcc\n",
      "-0.29282379150390625 hcp\n",
      "-0.24587249755859375 bridge\n",
      "0.07137298583984375 ontop\n"
     ]
    }
   ],
   "source": [
    "for atoms, site in surface_ads:\n",
    "    relax(atoms)\n",
    "    print(atoms.get_potential_energy() - (slab.get_potential_energy() + h2.get_potential_energy()/2), site)"
   ]
  },
  {
   "cell_type": "code",
   "execution_count": 13,
   "metadata": {},
   "outputs": [],
   "source": [
    "def relax(atoms, single_point=False):\n",
    "    atoms.calc = mace_calc\n",
    "    if not single_point:\n",
    "        opt = BFGS(atoms, logfile=None)\n",
    "        opt.run(fmax=0.03)\n",
    "    return atoms"
   ]
  },
  {
   "cell_type": "code",
   "execution_count": 41,
   "metadata": {},
   "outputs": [
    {
     "data": {
      "text/plain": [
       "<Popen: returncode: None args: ['/home/riccardo/anaconda3/envs/npl/bin/pytho...>"
      ]
     },
     "execution_count": 41,
     "metadata": {},
     "output_type": "execute_result"
    }
   ],
   "source": []
  },
  {
   "cell_type": "code",
   "execution_count": 52,
   "metadata": {},
   "outputs": [
    {
     "data": {
      "text/plain": [
       "<Popen: returncode: None args: ['/home/riccardo/anaconda3/envs/npl/bin/pytho...>"
      ]
     },
     "execution_count": 52,
     "metadata": {},
     "output_type": "execute_result"
    }
   ],
   "source": [
    "view(slab)"
   ]
  },
  {
   "cell_type": "code",
   "execution_count": null,
   "metadata": {},
   "outputs": [],
   "source": []
  }
 ],
 "metadata": {
  "kernelspec": {
   "display_name": "npl",
   "language": "python",
   "name": "python3"
  },
  "language_info": {
   "codemirror_mode": {
    "name": "ipython",
    "version": 3
   },
   "file_extension": ".py",
   "mimetype": "text/x-python",
   "name": "python",
   "nbconvert_exporter": "python",
   "pygments_lexer": "ipython3",
   "version": "3.11.6"
  }
 },
 "nbformat": 4,
 "nbformat_minor": 2
}
