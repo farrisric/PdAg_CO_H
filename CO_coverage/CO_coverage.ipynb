{
 "cells": [
  {
   "cell_type": "code",
   "execution_count": 10,
   "metadata": {},
   "outputs": [
    {
     "name": "stderr",
     "output_type": "stream",
     "text": [
      "/home/g15farris/.conda/envs/farris/lib/python3.9/site-packages/torchvision/io/image.py:13: UserWarning: Failed to load image Python extension: libtorch_cuda_cu.so: cannot open shared object file: No such file or directory\n"
     ]
    }
   ],
   "source": [
    "from ase.cluster import Octahedron\n",
    "from ase.optimize import BFGS\n",
    "from ase.calculators.emt import EMT\n",
    "import acat\n",
    "from mace.calculators import mace_mp\n",
    "from ase.io import read,write"
   ]
  },
  {
   "cell_type": "code",
   "execution_count": 28,
   "metadata": {},
   "outputs": [
    {
     "name": "stdout",
     "output_type": "stream",
     "text": [
      "Using float32 for MACECalculator, which is faster but less accurate. Recommended for MD. Use float64 for geometry optimization.\n",
      "Default dtype float32 does not match model dtype float64, converting models to float32.\n",
      "      Step     Time          Energy         fmax\n",
      "BFGS:    0 10:33:58    -1045.746460        0.5146\n",
      "BFGS:    1 10:34:00    -1046.296997        0.4797\n",
      "BFGS:    2 10:34:01    -1050.908081        0.3731\n",
      "BFGS:    3 10:34:02    -1051.409546        0.4367\n",
      "BFGS:    4 10:34:03    -1051.994507        0.4512\n",
      "BFGS:    5 10:34:04    -1052.780151        0.3908\n",
      "BFGS:    6 10:34:05    -1053.771240        0.2835\n",
      "BFGS:    7 10:34:06    -1054.506592        0.3520\n",
      "BFGS:    8 10:34:07    -1054.855469        0.3441\n",
      "BFGS:    9 10:34:08    -1055.049194        0.3025\n",
      "BFGS:   10 10:34:09    -1055.304199        0.2174\n",
      "BFGS:   11 10:34:10    -1055.573975        0.1631\n",
      "BFGS:   12 10:34:12    -1055.736450        0.1029\n",
      "BFGS:   13 10:34:13    -1055.775391        0.0803\n",
      "BFGS:   14 10:34:14    -1055.786621        0.0678\n",
      "BFGS:   15 10:34:15    -1055.800415        0.0423\n",
      "BFGS:   16 10:34:16    -1055.813599        0.0276\n"
     ]
    }
   ],
   "source": [
    "atoms = read('../bare_nps/xyz/Ag404Pd1_gnc_6.92_cn_9_E_67.579.xyz')\n",
    "atoms.center(vacuum=5.)\n",
    "mace_calc = mace_mp(model=\"/work/g15farris/2023-12-03-mace-128-L1_epoch-199.model\")\n",
    "atoms.calc = mace_calc\n",
    "opt = BFGS(atoms)\n",
    "opt.run(fmax=0.03, steps=50)\n",
    "base_energy = atoms.get_potential_energy()"
   ]
  },
  {
   "cell_type": "code",
   "execution_count": 29,
   "metadata": {},
   "outputs": [],
   "source": [
    "from acat.adsorption_sites import ClusterAdsorptionSites\n",
    "from acat.build import add_adsorbate_to_site\n",
    "\n",
    "cas = ClusterAdsorptionSites(atoms, composition_effect=True,\n",
    "                             surrogate_metal='Ag')\n",
    "\n",
    "sites = [x for x in cas.get_sites() if x['composition'] == 'Pd']\n",
    "\n",
    "for site in sites:\n",
    "    add_adsorbate_to_site(atoms, adsorbate='CO', site=site)\n",
    "    break"
   ]
  },
  {
   "cell_type": "code",
   "execution_count": 30,
   "metadata": {},
   "outputs": [
    {
     "name": "stdout",
     "output_type": "stream",
     "text": [
      "      Step     Time          Energy         fmax\n",
      "BFGS:    0 10:34:18      -14.330967        0.7216\n",
      "BFGS:    1 10:34:18      -14.324271        1.4854\n",
      "BFGS:    2 10:34:18      -14.333682        0.0739\n",
      "BFGS:    3 10:34:18      -14.333709        0.0073\n"
     ]
    }
   ],
   "source": [
    "from ase.build import molecule\n",
    "\n",
    "co = molecule('CO')\n",
    "co.calc = mace_calc\n",
    "opt = BFGS(co)\n",
    "opt.run(fmax=0.03, steps=50)\n",
    "ads_energy = co.get_potential_energy()"
   ]
  },
  {
   "cell_type": "code",
   "execution_count": 31,
   "metadata": {},
   "outputs": [
    {
     "name": "stdout",
     "output_type": "stream",
     "text": [
      "      Step     Time          Energy         fmax\n",
      "BFGS:    0 10:34:18    -1071.394043        1.1479\n",
      "BFGS:    1 10:34:19    -1071.409424        1.4344\n",
      "BFGS:    2 10:34:20    -1071.433228        0.2945\n",
      "BFGS:    3 10:34:21    -1071.438477        0.1790\n",
      "BFGS:    4 10:34:22    -1071.443237        0.2829\n",
      "BFGS:    5 10:34:23    -1071.448975        0.3042\n",
      "BFGS:    6 10:34:25    -1071.453979        0.2119\n",
      "BFGS:    7 10:34:26    -1071.457031        0.0900\n",
      "BFGS:    8 10:34:27    -1071.458252        0.0862\n",
      "BFGS:    9 10:34:28    -1071.460205        0.1676\n",
      "BFGS:   10 10:34:29    -1071.462769        0.2229\n",
      "BFGS:   11 10:34:30    -1071.464966        0.1582\n",
      "BFGS:   12 10:34:31    -1071.465942        0.0481\n",
      "BFGS:   13 10:34:32    -1071.466431        0.0387\n",
      "BFGS:   14 10:34:33    -1071.467041        0.0824\n",
      "BFGS:   15 10:34:35    -1071.467773        0.1152\n",
      "BFGS:   16 10:34:36    -1071.468506        0.0915\n",
      "BFGS:   17 10:34:37    -1071.468994        0.0319\n",
      "BFGS:   18 10:34:38    -1071.469116        0.0237\n"
     ]
    }
   ],
   "source": [
    "from ase.calculators.emt import EMT\n",
    "\n",
    "atoms.calc = mace_calc\n",
    "opt = BFGS(atoms)\n",
    "opt.run(fmax=0.03, steps=100)\n",
    "atoms_ads_energy = atoms.get_potential_energy()"
   ]
  },
  {
   "cell_type": "code",
   "execution_count": 32,
   "metadata": {},
   "outputs": [
    {
     "data": {
      "text/plain": [
       "-1.3218088150024414"
      ]
     },
     "execution_count": 32,
     "metadata": {},
     "output_type": "execute_result"
    }
   ],
   "source": [
    "atoms_ads_energy - (base_energy + ads_energy)"
   ]
  },
  {
   "cell_type": "markdown",
   "metadata": {},
   "source": [
    "Ads Pd inside -0.7024240493774414"
   ]
  },
  {
   "cell_type": "code",
   "execution_count": null,
   "metadata": {},
   "outputs": [],
   "source": []
  },
  {
   "cell_type": "code",
   "execution_count": 27,
   "metadata": {},
   "outputs": [
    {
     "data": {
      "application/vnd.jupyter.widget-view+json": {
       "model_id": "880cefe7e4e942f8b240a05f7cb920c2",
       "version_major": 2,
       "version_minor": 0
      },
      "text/plain": [
       "HBox(children=(NGLWidget(), VBox(children=(Dropdown(description='Show', options=('All', 'O', 'Pd', 'Ag', 'C'),…"
      ]
     },
     "metadata": {},
     "output_type": "display_data"
    }
   ],
   "source": [
    "from ase.visualize import view\n",
    "\n",
    "view(atoms, viewer='ngl')"
   ]
  },
  {
   "cell_type": "code",
   "execution_count": 8,
   "metadata": {},
   "outputs": [
    {
     "data": {
      "text/plain": [
       "-0.25964444428382194"
      ]
     },
     "execution_count": 8,
     "metadata": {},
     "output_type": "execute_result"
    }
   ],
   "source": [
    "-0.28608498776041813\n",
    "\n",
    "-0.25964444428382194\n",
    "\n",
    "-0.2521686770906797"
   ]
  }
 ],
 "metadata": {
  "kernelspec": {
   "display_name": "farris",
   "language": "python",
   "name": "python3"
  },
  "language_info": {
   "codemirror_mode": {
    "name": "ipython",
    "version": 3
   },
   "file_extension": ".py",
   "mimetype": "text/x-python",
   "name": "python",
   "nbconvert_exporter": "python",
   "pygments_lexer": "ipython3",
   "version": "3.9.1"
  }
 },
 "nbformat": 4,
 "nbformat_minor": 2
}
